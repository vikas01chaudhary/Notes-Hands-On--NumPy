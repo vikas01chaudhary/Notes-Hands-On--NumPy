{
 "cells": [
  {
   "cell_type": "markdown",
   "id": "5dcd2249",
   "metadata": {},
   "source": [
    "# Numpy"
   ]
  },
  {
   "cell_type": "markdown",
   "id": "33f5f685",
   "metadata": {},
   "source": [
    " \n",
    "\n",
    "### Numpy stands for Numeric Python, using in lib we perform Numeric Operations."
   ]
  },
  {
   "cell_type": "code",
   "execution_count": null,
   "id": "eb1a9625",
   "metadata": {},
   "outputs": [],
   "source": []
  },
  {
   "cell_type": "code",
   "execution_count": 2,
   "id": "c7b1aa67",
   "metadata": {},
   "outputs": [],
   "source": [
    "import numpy as np"
   ]
  },
  {
   "cell_type": "code",
   "execution_count": 3,
   "id": "406f23fa",
   "metadata": {},
   "outputs": [
    {
     "data": {
      "text/plain": [
       "30"
      ]
     },
     "execution_count": 3,
     "metadata": {},
     "output_type": "execute_result"
    }
   ],
   "source": [
    "a = 10\n",
    "b = 20\n",
    "\n",
    "a+b   # here, we have just used the opertor"
   ]
  },
  {
   "cell_type": "code",
   "execution_count": 4,
   "id": "c5cb9a4e",
   "metadata": {},
   "outputs": [
    {
     "ename": "TypeError",
     "evalue": "'int' object is not iterable",
     "output_type": "error",
     "traceback": [
      "\u001b[1;31m---------------------------------------------------------------------------\u001b[0m",
      "\u001b[1;31mTypeError\u001b[0m                                 Traceback (most recent call last)",
      "\u001b[1;32m~\\AppData\\Local\\Temp/ipykernel_15964/2029868471.py\u001b[0m in \u001b[0;36m<module>\u001b[1;34m\u001b[0m\n\u001b[1;32m----> 1\u001b[1;33m \u001b[0msum\u001b[0m\u001b[1;33m(\u001b[0m\u001b[0ma\u001b[0m\u001b[1;33m,\u001b[0m\u001b[0mb\u001b[0m\u001b[1;33m)\u001b[0m  \u001b[1;31m#erroe bcz we can't use functions directly on veriables,we will use []\u001b[0m\u001b[1;33m\u001b[0m\u001b[1;33m\u001b[0m\u001b[0m\n\u001b[0m",
      "\u001b[1;31mTypeError\u001b[0m: 'int' object is not iterable"
     ]
    }
   ],
   "source": [
    "sum(a,b)  #erroe bcz we can't use functions directly on veriables,we will use []"
   ]
  },
  {
   "cell_type": "code",
   "execution_count": 5,
   "id": "5481c6e5",
   "metadata": {},
   "outputs": [
    {
     "data": {
      "text/plain": [
       "30"
      ]
     },
     "execution_count": 5,
     "metadata": {},
     "output_type": "execute_result"
    }
   ],
   "source": [
    "sum([a,b])"
   ]
  },
  {
   "cell_type": "code",
   "execution_count": 6,
   "id": "335b138c",
   "metadata": {},
   "outputs": [
    {
     "data": {
      "text/plain": [
       "30"
      ]
     },
     "execution_count": 6,
     "metadata": {},
     "output_type": "execute_result"
    }
   ],
   "source": [
    "np.add(a,b)   "
   ]
  },
  {
   "cell_type": "code",
   "execution_count": 7,
   "id": "76518c45",
   "metadata": {},
   "outputs": [
    {
     "data": {
      "text/plain": [
       "-10"
      ]
     },
     "execution_count": 7,
     "metadata": {},
     "output_type": "execute_result"
    }
   ],
   "source": [
    "np.subtract(a,b)   "
   ]
  },
  {
   "cell_type": "markdown",
   "id": "71d347fe",
   "metadata": {},
   "source": [
    "# Numpy consist of bulitin data structures:"
   ]
  },
  {
   "cell_type": "code",
   "execution_count": 8,
   "id": "b99858e7",
   "metadata": {},
   "outputs": [],
   "source": [
    "\n",
    "# 1. Array: (1D,2D,3D......nD) \n",
    "\n",
    "# 2. Matrix: (2 Dementional) --> rows & columns\n",
    "\n",
    "# 1 & 2 are only the data structures in numpy package but assumes 2 more:\n",
    "\n",
    "# 3. Scalar: \n",
    "#           singular value, eg- 1,2,3,4...\n",
    "\n",
    "# 4. Vector: (1 Dementional)\n",
    "#     a. row vector: [1,2,3,4...]\n",
    "#     b. column vector : \n",
    "#                         [1,\n",
    "#                          2,\n",
    "#                          3] \n"
   ]
  },
  {
   "cell_type": "code",
   "execution_count": 9,
   "id": "bedb9420",
   "metadata": {},
   "outputs": [],
   "source": [
    "# !pip install numpy  -- used install any package/lib"
   ]
  },
  {
   "cell_type": "code",
   "execution_count": 10,
   "id": "706f765a",
   "metadata": {},
   "outputs": [
    {
     "data": {
      "text/plain": [
       "array(10)"
      ]
     },
     "execution_count": 10,
     "metadata": {},
     "output_type": "execute_result"
    }
   ],
   "source": [
    "# Scalar\n",
    "\n",
    "a = np.array(10)\n",
    "a"
   ]
  },
  {
   "cell_type": "code",
   "execution_count": 11,
   "id": "ec9a1536",
   "metadata": {},
   "outputs": [
    {
     "data": {
      "text/plain": [
       "numpy.ndarray"
      ]
     },
     "execution_count": 11,
     "metadata": {},
     "output_type": "execute_result"
    }
   ],
   "source": [
    "type(a)    # checking data type"
   ]
  },
  {
   "cell_type": "code",
   "execution_count": null,
   "id": "aafc6afc",
   "metadata": {},
   "outputs": [],
   "source": []
  },
  {
   "cell_type": "code",
   "execution_count": 12,
   "id": "a215935e",
   "metadata": {},
   "outputs": [
    {
     "data": {
      "text/plain": [
       "array([1, 2, 3, 4])"
      ]
     },
     "execution_count": 12,
     "metadata": {},
     "output_type": "execute_result"
    }
   ],
   "source": [
    "# Row Vector\n",
    "\n",
    "\n",
    "b = np.array([1,2,3,4])   # it is mandatory to use [] when we put more then one value in array\n",
    "b"
   ]
  },
  {
   "cell_type": "code",
   "execution_count": 13,
   "id": "88cfeb58",
   "metadata": {},
   "outputs": [
    {
     "data": {
      "text/plain": [
       "1"
      ]
     },
     "execution_count": 13,
     "metadata": {},
     "output_type": "execute_result"
    }
   ],
   "source": [
    "b.ndim     # checking no. of dimensions"
   ]
  },
  {
   "cell_type": "code",
   "execution_count": 14,
   "id": "e35e7ea3",
   "metadata": {},
   "outputs": [],
   "source": [
    "# In numpy we can't bulid column vector"
   ]
  },
  {
   "cell_type": "code",
   "execution_count": null,
   "id": "9d606cc0",
   "metadata": {},
   "outputs": [],
   "source": []
  },
  {
   "cell_type": "markdown",
   "id": "3e331369",
   "metadata": {},
   "source": [
    "## MATRIX\n",
    "\n",
    "\n",
    "Default data structure of Numpy"
   ]
  },
  {
   "cell_type": "code",
   "execution_count": 17,
   "id": "a7888556",
   "metadata": {
    "scrolled": true
   },
   "outputs": [
    {
     "name": "stdout",
     "output_type": "stream",
     "text": [
      "[[1 2 3]\n",
      " [4 5 6]]\n"
     ]
    }
   ],
   "source": [
    "c = np.matrix([[1,2,3],[4,5,6]])\n",
    "print(c)"
   ]
  },
  {
   "cell_type": "code",
   "execution_count": null,
   "id": "d79fa50b",
   "metadata": {},
   "outputs": [],
   "source": [
    "# [[1,2,3],[4,5,6]]\n",
    "\n",
    "# [1,2,3] is 1st D and [4,5,6] is 2nd D"
   ]
  },
  {
   "cell_type": "code",
   "execution_count": 16,
   "id": "e891486d",
   "metadata": {},
   "outputs": [
    {
     "data": {
      "text/plain": [
       "numpy.matrix"
      ]
     },
     "execution_count": 16,
     "metadata": {},
     "output_type": "execute_result"
    }
   ],
   "source": [
    "type(c)"
   ]
  },
  {
   "cell_type": "code",
   "execution_count": 17,
   "id": "aaaeac15",
   "metadata": {},
   "outputs": [
    {
     "data": {
      "text/plain": [
       "2"
      ]
     },
     "execution_count": 17,
     "metadata": {},
     "output_type": "execute_result"
    }
   ],
   "source": [
    "c.ndim"
   ]
  },
  {
   "cell_type": "code",
   "execution_count": 18,
   "id": "1228aaef",
   "metadata": {},
   "outputs": [
    {
     "data": {
      "text/plain": [
       "array([[0, 1, 0],\n",
       "       [1, 1, 1]])"
      ]
     },
     "execution_count": 18,
     "metadata": {},
     "output_type": "execute_result"
    }
   ],
   "source": [
    "d = np.array([[0,1,0],[1,1,1]])\n",
    "d"
   ]
  },
  {
   "cell_type": "code",
   "execution_count": 19,
   "id": "be2800a7",
   "metadata": {},
   "outputs": [
    {
     "data": {
      "text/plain": [
       "numpy.ndarray"
      ]
     },
     "execution_count": 19,
     "metadata": {},
     "output_type": "execute_result"
    }
   ],
   "source": [
    "type(d)"
   ]
  },
  {
   "cell_type": "code",
   "execution_count": 20,
   "id": "83c34dfd",
   "metadata": {},
   "outputs": [
    {
     "data": {
      "text/plain": [
       "2"
      ]
     },
     "execution_count": 20,
     "metadata": {},
     "output_type": "execute_result"
    }
   ],
   "source": [
    "d.ndim"
   ]
  },
  {
   "cell_type": "code",
   "execution_count": 21,
   "id": "f2232d3f",
   "metadata": {},
   "outputs": [],
   "source": [
    "# 2D array & 2D matrix are same just a d/f ways to write the same"
   ]
  },
  {
   "cell_type": "code",
   "execution_count": 22,
   "id": "bafd4cf1",
   "metadata": {},
   "outputs": [
    {
     "data": {
      "text/plain": [
       "array([[[1, 2, 3],\n",
       "        [4, 5, 6],\n",
       "        [7, 8, 9]]])"
      ]
     },
     "execution_count": 22,
     "metadata": {},
     "output_type": "execute_result"
    }
   ],
   "source": [
    "# 3D Array\n",
    "\n",
    "e = np.array([[[1,2,3],[4,5,6],[7,8,9]]])\n",
    "e"
   ]
  },
  {
   "cell_type": "code",
   "execution_count": 23,
   "id": "a8e553c5",
   "metadata": {},
   "outputs": [
    {
     "data": {
      "text/plain": [
       "3"
      ]
     },
     "execution_count": 23,
     "metadata": {},
     "output_type": "execute_result"
    }
   ],
   "source": [
    "e.ndim"
   ]
  },
  {
   "cell_type": "markdown",
   "id": "4451930e",
   "metadata": {},
   "source": [
    "## Shape\n",
    "\n",
    "(no. of rows,no. of columns)"
   ]
  },
  {
   "cell_type": "code",
   "execution_count": 26,
   "id": "f3aea8a1",
   "metadata": {},
   "outputs": [
    {
     "data": {
      "text/plain": [
       "array([[0, 1, 0],\n",
       "       [1, 1, 1]])"
      ]
     },
     "execution_count": 26,
     "metadata": {},
     "output_type": "execute_result"
    }
   ],
   "source": [
    "d"
   ]
  },
  {
   "cell_type": "code",
   "execution_count": 28,
   "id": "1ce736a9",
   "metadata": {},
   "outputs": [
    {
     "data": {
      "text/plain": [
       "(2, 3)"
      ]
     },
     "execution_count": 28,
     "metadata": {},
     "output_type": "execute_result"
    }
   ],
   "source": [
    "d.shape     #(2 rows, 3 columns)"
   ]
  },
  {
   "cell_type": "markdown",
   "id": "b5ea28a2",
   "metadata": {},
   "source": [
    "## Size\n",
    "\n",
    "count no. of elements present in the array"
   ]
  },
  {
   "cell_type": "code",
   "execution_count": 29,
   "id": "d2533622",
   "metadata": {},
   "outputs": [
    {
     "data": {
      "text/plain": [
       "6"
      ]
     },
     "execution_count": 29,
     "metadata": {},
     "output_type": "execute_result"
    }
   ],
   "source": [
    "d.size"
   ]
  },
  {
   "cell_type": "code",
   "execution_count": null,
   "id": "f4bda636",
   "metadata": {},
   "outputs": [],
   "source": []
  }
 ],
 "metadata": {
  "kernelspec": {
   "display_name": "Python 3 (ipykernel)",
   "language": "python",
   "name": "python3"
  },
  "language_info": {
   "codemirror_mode": {
    "name": "ipython",
    "version": 3
   },
   "file_extension": ".py",
   "mimetype": "text/x-python",
   "name": "python",
   "nbconvert_exporter": "python",
   "pygments_lexer": "ipython3",
   "version": "3.9.7"
  }
 },
 "nbformat": 4,
 "nbformat_minor": 5
}
