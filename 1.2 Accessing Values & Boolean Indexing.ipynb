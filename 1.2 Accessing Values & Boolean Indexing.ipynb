{
 "cells": [
  {
   "cell_type": "markdown",
   "id": "703da7fc",
   "metadata": {},
   "source": [
    "# Convert 1D Array to 2D Array"
   ]
  },
  {
   "cell_type": "code",
   "execution_count": 2,
   "id": "576df652",
   "metadata": {},
   "outputs": [],
   "source": [
    "import numpy as np"
   ]
  },
  {
   "cell_type": "markdown",
   "id": "b13540a8",
   "metadata": {},
   "source": [
    "### Reshape\n",
    "\n",
    "* Converts the 1D array into specified D array"
   ]
  },
  {
   "cell_type": "code",
   "execution_count": 4,
   "id": "99b9915c",
   "metadata": {},
   "outputs": [
    {
     "data": {
      "text/plain": [
       "array([10, 11, 12, 13, 14, 15, 16, 17, 18, 19])"
      ]
     },
     "execution_count": 4,
     "metadata": {},
     "output_type": "execute_result"
    }
   ],
   "source": [
    "a = np.arange(10,20)\n",
    "a"
   ]
  },
  {
   "cell_type": "code",
   "execution_count": 8,
   "id": "a832d71e",
   "metadata": {},
   "outputs": [
    {
     "data": {
      "text/plain": [
       "1"
      ]
     },
     "execution_count": 8,
     "metadata": {},
     "output_type": "execute_result"
    }
   ],
   "source": [
    "a.ndim"
   ]
  },
  {
   "cell_type": "code",
   "execution_count": 11,
   "id": "b2290291",
   "metadata": {},
   "outputs": [
    {
     "data": {
      "text/plain": [
       "array([[10, 11, 12, 13, 14],\n",
       "       [15, 16, 17, 18, 19]])"
      ]
     },
     "execution_count": 11,
     "metadata": {},
     "output_type": "execute_result"
    }
   ],
   "source": [
    "b = a.reshape(2,5)\n",
    "b"
   ]
  },
  {
   "cell_type": "code",
   "execution_count": 12,
   "id": "f45fd82c",
   "metadata": {},
   "outputs": [
    {
     "data": {
      "text/plain": [
       "array([[10, 11],\n",
       "       [12, 13],\n",
       "       [14, 15],\n",
       "       [16, 17],\n",
       "       [18, 19]])"
      ]
     },
     "execution_count": 12,
     "metadata": {},
     "output_type": "execute_result"
    }
   ],
   "source": [
    "b = a.reshape(5,2)\n",
    "b"
   ]
  },
  {
   "cell_type": "code",
   "execution_count": 14,
   "id": "76e06d39",
   "metadata": {},
   "outputs": [
    {
     "data": {
      "text/plain": [
       "2"
      ]
     },
     "execution_count": 14,
     "metadata": {},
     "output_type": "execute_result"
    }
   ],
   "source": [
    "b.ndim"
   ]
  },
  {
   "cell_type": "code",
   "execution_count": null,
   "id": "dee585ea",
   "metadata": {},
   "outputs": [],
   "source": []
  },
  {
   "cell_type": "markdown",
   "id": "1a898eee",
   "metadata": {},
   "source": [
    "# Convert nD Array into 1D Array"
   ]
  },
  {
   "cell_type": "markdown",
   "id": "fe534a23",
   "metadata": {},
   "source": [
    "### Ravel\n",
    "\n",
    "* Used to convert nD array into 1D array"
   ]
  },
  {
   "cell_type": "code",
   "execution_count": 17,
   "id": "12ebdfb6",
   "metadata": {},
   "outputs": [
    {
     "data": {
      "text/plain": [
       "array([10, 11, 12, 13, 14, 15, 16, 17, 18, 19])"
      ]
     },
     "execution_count": 17,
     "metadata": {},
     "output_type": "execute_result"
    }
   ],
   "source": [
    "c = b.ravel()\n",
    "c"
   ]
  },
  {
   "cell_type": "code",
   "execution_count": 18,
   "id": "03912002",
   "metadata": {},
   "outputs": [
    {
     "data": {
      "text/plain": [
       "1"
      ]
     },
     "execution_count": 18,
     "metadata": {},
     "output_type": "execute_result"
    }
   ],
   "source": [
    "c.ndim"
   ]
  },
  {
   "cell_type": "code",
   "execution_count": null,
   "id": "61b04a03",
   "metadata": {},
   "outputs": [],
   "source": []
  },
  {
   "cell_type": "markdown",
   "id": "5f1075fd",
   "metadata": {},
   "source": [
    "## Accessing Values from Arrays - Indexing & Slicing"
   ]
  },
  {
   "cell_type": "code",
   "execution_count": 3,
   "id": "633c5c48",
   "metadata": {},
   "outputs": [
    {
     "data": {
      "text/plain": [
       "array([[27, 22, 39, 67, 88],\n",
       "       [90, 35, 97, 25, 36],\n",
       "       [25, 22, 19, 33, 35]])"
      ]
     },
     "execution_count": 3,
     "metadata": {},
     "output_type": "execute_result"
    }
   ],
   "source": [
    "a = np.random.randint(10,100,(3,5))\n",
    "a"
   ]
  },
  {
   "cell_type": "markdown",
   "id": "1f31c085",
   "metadata": {},
   "source": [
    "Syntax for accessing 2D array:\n",
    "\n",
    "a[ : , : ]\n",
    "\n",
    "a[rows,columns]\n",
    "\n",
    "a[ SP:EP, SP:EP]\n",
    "\n",
    "* SP -> Start Position\n",
    "* EP -> End Position\n",
    "\n",
    "-> In Indexing End Position is always Excluded"
   ]
  },
  {
   "cell_type": "code",
   "execution_count": 4,
   "id": "bd93d79f",
   "metadata": {},
   "outputs": [
    {
     "data": {
      "text/plain": [
       "array([[27, 22, 39, 67, 88],\n",
       "       [90, 35, 97, 25, 36],\n",
       "       [25, 22, 19, 33, 35]])"
      ]
     },
     "execution_count": 4,
     "metadata": {},
     "output_type": "execute_result"
    }
   ],
   "source": [
    "a[:]  # accesses all array"
   ]
  },
  {
   "cell_type": "code",
   "execution_count": 5,
   "id": "3faf2d7e",
   "metadata": {},
   "outputs": [
    {
     "data": {
      "text/plain": [
       "array([27, 22, 39, 67, 88])"
      ]
     },
     "execution_count": 5,
     "metadata": {},
     "output_type": "execute_result"
    }
   ],
   "source": [
    "a[0]  # accesses 1st row"
   ]
  },
  {
   "cell_type": "code",
   "execution_count": 6,
   "id": "45d86dd0",
   "metadata": {},
   "outputs": [
    {
     "data": {
      "text/plain": [
       "array([25, 22, 19, 33, 35])"
      ]
     },
     "execution_count": 6,
     "metadata": {},
     "output_type": "execute_result"
    }
   ],
   "source": [
    "a[2] # accesses 3rd row"
   ]
  },
  {
   "cell_type": "code",
   "execution_count": 7,
   "id": "d0250a75",
   "metadata": {},
   "outputs": [],
   "source": [
    "# Rows can be access sperately but columns can't be access sperately"
   ]
  },
  {
   "cell_type": "code",
   "execution_count": null,
   "id": "bf675290",
   "metadata": {},
   "outputs": [],
   "source": []
  },
  {
   "cell_type": "code",
   "execution_count": 8,
   "id": "3eab880a",
   "metadata": {},
   "outputs": [
    {
     "data": {
      "text/plain": [
       "array([39, 97, 19])"
      ]
     },
     "execution_count": 8,
     "metadata": {},
     "output_type": "execute_result"
    }
   ],
   "source": [
    "# I want access all the elements of 3rd column\n",
    "\n",
    "\n",
    "a[:,2]"
   ]
  },
  {
   "cell_type": "code",
   "execution_count": 9,
   "id": "f1e59769",
   "metadata": {},
   "outputs": [
    {
     "data": {
      "text/plain": [
       "array([[27, 22, 39, 67, 88],\n",
       "       [90, 35, 97, 25, 36],\n",
       "       [25, 22, 19, 33, 35]])"
      ]
     },
     "execution_count": 9,
     "metadata": {},
     "output_type": "execute_result"
    }
   ],
   "source": [
    "a"
   ]
  },
  {
   "cell_type": "code",
   "execution_count": 10,
   "id": "564473ac",
   "metadata": {},
   "outputs": [
    {
     "data": {
      "text/plain": [
       "array([[27, 22, 39, 67, 88],\n",
       "       [90, 35, 97, 25, 36]])"
      ]
     },
     "execution_count": 10,
     "metadata": {},
     "output_type": "execute_result"
    }
   ],
   "source": [
    "# access all the rows expect last row\n",
    "\n",
    "\n",
    "a[:2,:]"
   ]
  },
  {
   "cell_type": "code",
   "execution_count": 11,
   "id": "124ba1f5",
   "metadata": {},
   "outputs": [
    {
     "data": {
      "text/plain": [
       "array([[27, 22, 39, 67, 88],\n",
       "       [90, 35, 97, 25, 36]])"
      ]
     },
     "execution_count": 11,
     "metadata": {},
     "output_type": "execute_result"
    }
   ],
   "source": [
    "a[0:2,:]"
   ]
  },
  {
   "cell_type": "code",
   "execution_count": 12,
   "id": "5a39e0df",
   "metadata": {},
   "outputs": [
    {
     "data": {
      "text/plain": [
       "array([[39, 67, 88],\n",
       "       [97, 25, 36],\n",
       "       [19, 33, 35]])"
      ]
     },
     "execution_count": 12,
     "metadata": {},
     "output_type": "execute_result"
    }
   ],
   "source": [
    "# access the 3rd,4th & 5th column\n",
    "\n",
    "a[:,2:]"
   ]
  },
  {
   "cell_type": "code",
   "execution_count": 13,
   "id": "424cfab1",
   "metadata": {},
   "outputs": [
    {
     "data": {
      "text/plain": [
       "array([[27, 22],\n",
       "       [90, 35],\n",
       "       [25, 22]])"
      ]
     },
     "execution_count": 13,
     "metadata": {},
     "output_type": "execute_result"
    }
   ],
   "source": [
    "# Access 1st two column\n",
    "\n",
    "a[:,:2]"
   ]
  },
  {
   "cell_type": "code",
   "execution_count": null,
   "id": "a35b5c3b",
   "metadata": {},
   "outputs": [],
   "source": []
  },
  {
   "cell_type": "code",
   "execution_count": 14,
   "id": "26b46e56",
   "metadata": {},
   "outputs": [
    {
     "data": {
      "text/plain": [
       "array([[27, 22, 39, 67, 88],\n",
       "       [90, 35, 97, 25, 36],\n",
       "       [25, 22, 19, 33, 35]])"
      ]
     },
     "execution_count": 14,
     "metadata": {},
     "output_type": "execute_result"
    }
   ],
   "source": [
    "a"
   ]
  },
  {
   "cell_type": "code",
   "execution_count": 15,
   "id": "b7ca8fe6",
   "metadata": {},
   "outputs": [
    {
     "data": {
      "text/plain": [
       "array([[97, 25],\n",
       "       [19, 33]])"
      ]
     },
     "execution_count": 15,
     "metadata": {},
     "output_type": "execute_result"
    }
   ],
   "source": [
    "# access only 11,78,39,28\n",
    "\n",
    "\n",
    "a[1:,2:4]"
   ]
  },
  {
   "cell_type": "code",
   "execution_count": null,
   "id": "268a8e57",
   "metadata": {},
   "outputs": [],
   "source": []
  },
  {
   "cell_type": "markdown",
   "id": "5aa010d6",
   "metadata": {},
   "source": [
    "## Non-Sequential Accessing"
   ]
  },
  {
   "cell_type": "code",
   "execution_count": 19,
   "id": "656fb5c3",
   "metadata": {},
   "outputs": [
    {
     "data": {
      "text/plain": [
       "array([[27, 22, 39, 67, 88],\n",
       "       [90, 35, 97, 25, 36],\n",
       "       [25, 22, 19, 33, 35]])"
      ]
     },
     "execution_count": 19,
     "metadata": {},
     "output_type": "execute_result"
    }
   ],
   "source": [
    "a"
   ]
  },
  {
   "cell_type": "code",
   "execution_count": 16,
   "id": "e5d0287b",
   "metadata": {},
   "outputs": [
    {
     "data": {
      "text/plain": [
       "array([[27, 22, 39, 67, 88],\n",
       "       [25, 22, 19, 33, 35]])"
      ]
     },
     "execution_count": 16,
     "metadata": {},
     "output_type": "execute_result"
    }
   ],
   "source": [
    "# access only 1st row and last row\n",
    "\n",
    "a[[0,2],:]                 #   [[1st row, 2nd row],all columns]"
   ]
  },
  {
   "cell_type": "code",
   "execution_count": 17,
   "id": "23c653bc",
   "metadata": {},
   "outputs": [
    {
     "data": {
      "text/plain": [
       "array([[39, 88],\n",
       "       [97, 36],\n",
       "       [19, 35]])"
      ]
     },
     "execution_count": 17,
     "metadata": {},
     "output_type": "execute_result"
    }
   ],
   "source": [
    "# access only 2nd column and last column\n",
    "\n",
    "a[:,[2,4]]                 "
   ]
  },
  {
   "cell_type": "code",
   "execution_count": 24,
   "id": "b03dfe3f",
   "metadata": {},
   "outputs": [
    {
     "data": {
      "text/plain": [
       "array([22, 35])"
      ]
     },
     "execution_count": 24,
     "metadata": {},
     "output_type": "execute_result"
    }
   ],
   "source": [
    "# access paritcular values for both row and colum\n",
    "\n",
    "\n",
    "a[[0,2],[1,4]]"
   ]
  },
  {
   "cell_type": "code",
   "execution_count": null,
   "id": "0c80137a",
   "metadata": {},
   "outputs": [],
   "source": []
  },
  {
   "cell_type": "code",
   "execution_count": null,
   "id": "4de58870",
   "metadata": {},
   "outputs": [],
   "source": []
  },
  {
   "cell_type": "markdown",
   "id": "bc3810fd",
   "metadata": {},
   "source": [
    "## Accessing Particular Element"
   ]
  },
  {
   "cell_type": "code",
   "execution_count": 31,
   "id": "b4ecc04a",
   "metadata": {},
   "outputs": [
    {
     "data": {
      "text/plain": [
       "array([[12, 81, 23, 67, 88],\n",
       "       [49, 83, 11, 78, 46],\n",
       "       [24, 52, 39, 28, 71]])"
      ]
     },
     "execution_count": 31,
     "metadata": {},
     "output_type": "execute_result"
    }
   ],
   "source": [
    "a"
   ]
  },
  {
   "cell_type": "code",
   "execution_count": 33,
   "id": "49066b05",
   "metadata": {},
   "outputs": [
    {
     "data": {
      "text/plain": [
       "83"
      ]
     },
     "execution_count": 33,
     "metadata": {},
     "output_type": "execute_result"
    }
   ],
   "source": [
    "# Access the element 83\n",
    "\n",
    "\n",
    "a[1,1]       #   [element's row position, element's column position]"
   ]
  },
  {
   "cell_type": "code",
   "execution_count": 34,
   "id": "1e0e0db1",
   "metadata": {},
   "outputs": [
    {
     "data": {
      "text/plain": [
       "28"
      ]
     },
     "execution_count": 34,
     "metadata": {},
     "output_type": "execute_result"
    }
   ],
   "source": [
    "# Access the element 28\n",
    "\n",
    "\n",
    "a[2,3]"
   ]
  },
  {
   "cell_type": "code",
   "execution_count": null,
   "id": "fbc87dd3",
   "metadata": {},
   "outputs": [],
   "source": []
  },
  {
   "cell_type": "markdown",
   "id": "09bf8be2",
   "metadata": {},
   "source": [
    "## Boolean Indexing"
   ]
  },
  {
   "cell_type": "code",
   "execution_count": 37,
   "id": "bb6c8fbf",
   "metadata": {},
   "outputs": [
    {
     "data": {
      "text/plain": [
       "[0, 1, 2, 3, 4, 5, 6, 7, 8, 9, 10, 11, 12, 13, 14, 15, 16, 17, 18, 19]"
      ]
     },
     "execution_count": 37,
     "metadata": {},
     "output_type": "execute_result"
    }
   ],
   "source": [
    "\n",
    "b = list(range(20))\n",
    "b"
   ]
  },
  {
   "cell_type": "code",
   "execution_count": 38,
   "id": "bff07db4",
   "metadata": {},
   "outputs": [
    {
     "ename": "TypeError",
     "evalue": "unsupported operand type(s) for %: 'list' and 'int'",
     "output_type": "error",
     "traceback": [
      "\u001b[1;31m---------------------------------------------------------------------------\u001b[0m",
      "\u001b[1;31mTypeError\u001b[0m                                 Traceback (most recent call last)",
      "\u001b[1;32m~\\AppData\\Local\\Temp/ipykernel_12888/809970083.py\u001b[0m in \u001b[0;36m<module>\u001b[1;34m\u001b[0m\n\u001b[0;32m      2\u001b[0m \u001b[1;33m\u001b[0m\u001b[0m\n\u001b[0;32m      3\u001b[0m \u001b[1;33m\u001b[0m\u001b[0m\n\u001b[1;32m----> 4\u001b[1;33m \u001b[0mb\u001b[0m \u001b[1;33m%\u001b[0m \u001b[1;36m4\u001b[0m \u001b[1;33m==\u001b[0m\u001b[1;36m0\u001b[0m\u001b[1;33m\u001b[0m\u001b[1;33m\u001b[0m\u001b[0m\n\u001b[0m",
      "\u001b[1;31mTypeError\u001b[0m: unsupported operand type(s) for %: 'list' and 'int'"
     ]
    }
   ],
   "source": [
    "# I want all those values from list 'b' which are devisible by 4\n",
    "\n",
    "\n",
    "b % 4 ==0      \n",
    "\n",
    "# so, it gives error bcz we can't perform this task directly, \n",
    "\n",
    "# but we can perform this task with the help of for loop, while loop, lambda & list comprehansion"
   ]
  },
  {
   "cell_type": "code",
   "execution_count": 39,
   "id": "ff2c3958",
   "metadata": {},
   "outputs": [
    {
     "data": {
      "text/plain": [
       "array([[12, 81, 23, 67, 88],\n",
       "       [49, 83, 11, 78, 46],\n",
       "       [24, 52, 39, 28, 71]])"
      ]
     },
     "execution_count": 39,
     "metadata": {},
     "output_type": "execute_result"
    }
   ],
   "source": [
    "# But in NUMPY we can form this task directly\n",
    "\n",
    "a"
   ]
  },
  {
   "cell_type": "code",
   "execution_count": 40,
   "id": "ec69ee99",
   "metadata": {},
   "outputs": [
    {
     "data": {
      "text/plain": [
       "array([[ True, False, False, False,  True],\n",
       "       [False, False, False, False, False],\n",
       "       [ True,  True, False,  True, False]])"
      ]
     },
     "execution_count": 40,
     "metadata": {},
     "output_type": "execute_result"
    }
   ],
   "source": [
    "a % 4 ==0     # It gives output in boolean "
   ]
  },
  {
   "cell_type": "code",
   "execution_count": 41,
   "id": "0d23f3c9",
   "metadata": {},
   "outputs": [
    {
     "data": {
      "text/plain": [
       "array([12, 88, 24, 52, 28])"
      ]
     },
     "execution_count": 41,
     "metadata": {},
     "output_type": "execute_result"
    }
   ],
   "source": [
    "# So, we don't boolean and need exact values then\n",
    "\n",
    "a[a % 4 ==0]"
   ]
  },
  {
   "cell_type": "code",
   "execution_count": null,
   "id": "9475f6db",
   "metadata": {},
   "outputs": [],
   "source": []
  },
  {
   "cell_type": "code",
   "execution_count": null,
   "id": "7f9c441d",
   "metadata": {},
   "outputs": [],
   "source": []
  },
  {
   "cell_type": "code",
   "execution_count": null,
   "id": "a53ede5d",
   "metadata": {},
   "outputs": [],
   "source": []
  }
 ],
 "metadata": {
  "kernelspec": {
   "display_name": "Python 3 (ipykernel)",
   "language": "python",
   "name": "python3"
  },
  "language_info": {
   "codemirror_mode": {
    "name": "ipython",
    "version": 3
   },
   "file_extension": ".py",
   "mimetype": "text/x-python",
   "name": "python",
   "nbconvert_exporter": "python",
   "pygments_lexer": "ipython3",
   "version": "3.9.7"
  }
 },
 "nbformat": 4,
 "nbformat_minor": 5
}
