{
 "cells": [
  {
   "cell_type": "markdown",
   "id": "7d9338c9",
   "metadata": {},
   "source": [
    "# Operations in Arrays"
   ]
  },
  {
   "cell_type": "markdown",
   "id": "8ce352e8",
   "metadata": {},
   "source": [
    "### Types of Operations:\n",
    "\n",
    "* Arithmetic & Element-Wise Operations\n",
    "* Aggregation Operation\n",
    "* Axis-Wise Operations\n",
    "* Stacking Operation"
   ]
  },
  {
   "cell_type": "code",
   "execution_count": 2,
   "id": "f00f9242",
   "metadata": {},
   "outputs": [
    {
     "data": {
      "text/plain": [
       "[0, 1, 2, 3, 4, 5, 6, 7, 8, 9]"
      ]
     },
     "execution_count": 2,
     "metadata": {},
     "output_type": "execute_result"
    }
   ],
   "source": [
    "b = list(range(10))\n",
    "b"
   ]
  },
  {
   "cell_type": "code",
   "execution_count": 3,
   "id": "b558f06b",
   "metadata": {},
   "outputs": [
    {
     "ename": "TypeError",
     "evalue": "can only concatenate list (not \"int\") to list",
     "output_type": "error",
     "traceback": [
      "\u001b[1;31m---------------------------------------------------------------------------\u001b[0m",
      "\u001b[1;31mTypeError\u001b[0m                                 Traceback (most recent call last)",
      "\u001b[1;32m~\\AppData\\Local\\Temp/ipykernel_10600/65190220.py\u001b[0m in \u001b[0;36m<module>\u001b[1;34m\u001b[0m\n\u001b[0;32m      1\u001b[0m \u001b[1;31m# I want to 10 to every element of list\u001b[0m\u001b[1;33m\u001b[0m\u001b[1;33m\u001b[0m\u001b[0m\n\u001b[0;32m      2\u001b[0m \u001b[1;33m\u001b[0m\u001b[0m\n\u001b[1;32m----> 3\u001b[1;33m \u001b[0mb\u001b[0m \u001b[1;33m+\u001b[0m \u001b[1;36m10\u001b[0m\u001b[1;33m\u001b[0m\u001b[1;33m\u001b[0m\u001b[0m\n\u001b[0m",
      "\u001b[1;31mTypeError\u001b[0m: can only concatenate list (not \"int\") to list"
     ]
    }
   ],
   "source": [
    "# I want to add 10 to every element of list\n",
    "\n",
    "b + 10         # without loop, lamda, list comp.,etc we can't do"
   ]
  },
  {
   "cell_type": "code",
   "execution_count": 6,
   "id": "b3f448a5",
   "metadata": {},
   "outputs": [
    {
     "data": {
      "text/plain": [
       "[10, 11, 12, 13, 14, 15, 16, 17, 18, 19]"
      ]
     },
     "execution_count": 6,
     "metadata": {},
     "output_type": "execute_result"
    }
   ],
   "source": [
    "[i+10 for i in b]    # In this way can do but in the numpy we can do it directly"
   ]
  },
  {
   "cell_type": "code",
   "execution_count": 1,
   "id": "c52db296",
   "metadata": {},
   "outputs": [],
   "source": [
    "import numpy as np"
   ]
  },
  {
   "cell_type": "code",
   "execution_count": 3,
   "id": "e2adfaa9",
   "metadata": {},
   "outputs": [
    {
     "data": {
      "text/plain": [
       "array([[38, 14, 12, 43, 42],\n",
       "       [37, 25, 85, 87, 49],\n",
       "       [47, 22, 56, 11, 60]])"
      ]
     },
     "execution_count": 3,
     "metadata": {},
     "output_type": "execute_result"
    }
   ],
   "source": [
    "a = np.random.randint(10,100,(3,5))\n",
    "a"
   ]
  },
  {
   "cell_type": "code",
   "execution_count": 4,
   "id": "ed33acaf",
   "metadata": {},
   "outputs": [
    {
     "data": {
      "text/plain": [
       "array([[10038, 10014, 10012, 10043, 10042],\n",
       "       [10037, 10025, 10085, 10087, 10049],\n",
       "       [10047, 10022, 10056, 10011, 10060]])"
      ]
     },
     "execution_count": 4,
     "metadata": {},
     "output_type": "execute_result"
    }
   ],
   "source": [
    "a+10000"
   ]
  },
  {
   "cell_type": "code",
   "execution_count": 5,
   "id": "76ade92d",
   "metadata": {},
   "outputs": [
    {
     "data": {
      "text/plain": [
       "array([[0.38, 0.14, 0.12, 0.43, 0.42],\n",
       "       [0.37, 0.25, 0.85, 0.87, 0.49],\n",
       "       [0.47, 0.22, 0.56, 0.11, 0.6 ]])"
      ]
     },
     "execution_count": 5,
     "metadata": {},
     "output_type": "execute_result"
    }
   ],
   "source": [
    "a/100"
   ]
  },
  {
   "cell_type": "code",
   "execution_count": 6,
   "id": "19f74a4d",
   "metadata": {},
   "outputs": [
    {
     "data": {
      "text/plain": [
       "array([[19,  7,  6, 21, 21],\n",
       "       [18, 12, 42, 43, 24],\n",
       "       [23, 11, 28,  5, 30]], dtype=int32)"
      ]
     },
     "execution_count": 6,
     "metadata": {},
     "output_type": "execute_result"
    }
   ],
   "source": [
    "a//2"
   ]
  },
  {
   "cell_type": "code",
   "execution_count": 7,
   "id": "7028b116",
   "metadata": {},
   "outputs": [
    {
     "data": {
      "text/plain": [
       "array([[0, 0, 0, 1, 0],\n",
       "       [1, 1, 1, 1, 1],\n",
       "       [1, 0, 0, 1, 0]], dtype=int32)"
      ]
     },
     "execution_count": 7,
     "metadata": {},
     "output_type": "execute_result"
    }
   ],
   "source": [
    "a%2"
   ]
  },
  {
   "cell_type": "code",
   "execution_count": 8,
   "id": "2d130d42",
   "metadata": {},
   "outputs": [
    {
     "data": {
      "text/plain": [
       "2.0"
      ]
     },
     "execution_count": 8,
     "metadata": {},
     "output_type": "execute_result"
    }
   ],
   "source": [
    "10/5"
   ]
  },
  {
   "cell_type": "code",
   "execution_count": 9,
   "id": "06d3fafd",
   "metadata": {},
   "outputs": [
    {
     "data": {
      "text/plain": [
       "2"
      ]
     },
     "execution_count": 9,
     "metadata": {},
     "output_type": "execute_result"
    }
   ],
   "source": [
    "10//5"
   ]
  },
  {
   "cell_type": "markdown",
   "id": "efaf527f",
   "metadata": {},
   "source": [
    "## 1. Arithmetic & Element-Wise Operations"
   ]
  },
  {
   "cell_type": "code",
   "execution_count": 10,
   "id": "d9a01bc0",
   "metadata": {},
   "outputs": [],
   "source": [
    "# We can use directly operators(used above) or numpy functions"
   ]
  },
  {
   "cell_type": "code",
   "execution_count": 11,
   "id": "d7350428",
   "metadata": {},
   "outputs": [
    {
     "data": {
      "text/plain": [
       "array([[10038, 10014, 10012, 10043, 10042],\n",
       "       [10037, 10025, 10085, 10087, 10049],\n",
       "       [10047, 10022, 10056, 10011, 10060]])"
      ]
     },
     "execution_count": 11,
     "metadata": {},
     "output_type": "execute_result"
    }
   ],
   "source": [
    "np.add(a,10000)"
   ]
  },
  {
   "cell_type": "code",
   "execution_count": 12,
   "id": "c2459421",
   "metadata": {},
   "outputs": [
    {
     "data": {
      "text/plain": [
       "array([[28,  4,  2, 33, 32],\n",
       "       [27, 15, 75, 77, 39],\n",
       "       [37, 12, 46,  1, 50]])"
      ]
     },
     "execution_count": 12,
     "metadata": {},
     "output_type": "execute_result"
    }
   ],
   "source": [
    "np.subtract(a,10)"
   ]
  },
  {
   "cell_type": "code",
   "execution_count": 13,
   "id": "70a73aa3",
   "metadata": {},
   "outputs": [
    {
     "data": {
      "text/plain": [
       "array([[ 76,  28,  24,  86,  84],\n",
       "       [ 74,  50, 170, 174,  98],\n",
       "       [ 94,  44, 112,  22, 120]])"
      ]
     },
     "execution_count": 13,
     "metadata": {},
     "output_type": "execute_result"
    }
   ],
   "source": [
    "np.multiply(a,2)"
   ]
  },
  {
   "cell_type": "code",
   "execution_count": 14,
   "id": "0993c80f",
   "metadata": {},
   "outputs": [
    {
     "data": {
      "text/plain": [
       "array([[3.8, 1.4, 1.2, 4.3, 4.2],\n",
       "       [3.7, 2.5, 8.5, 8.7, 4.9],\n",
       "       [4.7, 2.2, 5.6, 1.1, 6. ]])"
      ]
     },
     "execution_count": 14,
     "metadata": {},
     "output_type": "execute_result"
    }
   ],
   "source": [
    "np.divide(a,10)"
   ]
  },
  {
   "cell_type": "code",
   "execution_count": 15,
   "id": "2ef049aa",
   "metadata": {},
   "outputs": [
    {
     "data": {
      "text/plain": [
       "array([[6.164414  , 3.74165739, 3.46410162, 6.55743852, 6.4807407 ],\n",
       "       [6.08276253, 5.        , 9.21954446, 9.32737905, 7.        ],\n",
       "       [6.8556546 , 4.69041576, 7.48331477, 3.31662479, 7.74596669]])"
      ]
     },
     "execution_count": 15,
     "metadata": {},
     "output_type": "execute_result"
    }
   ],
   "source": [
    "np.sqrt(a)"
   ]
  },
  {
   "cell_type": "code",
   "execution_count": null,
   "id": "6f11c723",
   "metadata": {},
   "outputs": [],
   "source": []
  },
  {
   "cell_type": "markdown",
   "id": "47a97362",
   "metadata": {},
   "source": [
    "## 2. Aggregation Operation"
   ]
  },
  {
   "cell_type": "code",
   "execution_count": 16,
   "id": "f28b00b0",
   "metadata": {},
   "outputs": [
    {
     "data": {
      "text/plain": [
       "array([[38, 14, 12, 43, 42],\n",
       "       [37, 25, 85, 87, 49],\n",
       "       [47, 22, 56, 11, 60]])"
      ]
     },
     "execution_count": 16,
     "metadata": {},
     "output_type": "execute_result"
    }
   ],
   "source": [
    "a"
   ]
  },
  {
   "cell_type": "code",
   "execution_count": 17,
   "id": "e30e79b7",
   "metadata": {},
   "outputs": [
    {
     "data": {
      "text/plain": [
       "628"
      ]
     },
     "execution_count": 17,
     "metadata": {},
     "output_type": "execute_result"
    }
   ],
   "source": [
    "np.sum(a)"
   ]
  },
  {
   "cell_type": "code",
   "execution_count": 18,
   "id": "bd76907f",
   "metadata": {},
   "outputs": [
    {
     "data": {
      "text/plain": [
       "11"
      ]
     },
     "execution_count": 18,
     "metadata": {},
     "output_type": "execute_result"
    }
   ],
   "source": [
    "np.min(a)"
   ]
  },
  {
   "cell_type": "code",
   "execution_count": 19,
   "id": "694fbe88",
   "metadata": {},
   "outputs": [
    {
     "data": {
      "text/plain": [
       "87"
      ]
     },
     "execution_count": 19,
     "metadata": {},
     "output_type": "execute_result"
    }
   ],
   "source": [
    "np.max(a)"
   ]
  },
  {
   "cell_type": "code",
   "execution_count": 20,
   "id": "2a7047a1",
   "metadata": {},
   "outputs": [
    {
     "data": {
      "text/plain": [
       "22.867346928656932"
      ]
     },
     "execution_count": 20,
     "metadata": {},
     "output_type": "execute_result"
    }
   ],
   "source": [
    "np.std(a)"
   ]
  },
  {
   "cell_type": "code",
   "execution_count": 21,
   "id": "664eab5b",
   "metadata": {},
   "outputs": [
    {
     "data": {
      "text/plain": [
       "522.9155555555556"
      ]
     },
     "execution_count": 21,
     "metadata": {},
     "output_type": "execute_result"
    }
   ],
   "source": [
    "np.var(a)"
   ]
  },
  {
   "cell_type": "code",
   "execution_count": null,
   "id": "0dca6f01",
   "metadata": {},
   "outputs": [],
   "source": []
  },
  {
   "cell_type": "code",
   "execution_count": 22,
   "id": "6d91b5ec",
   "metadata": {},
   "outputs": [
    {
     "data": {
      "text/plain": [
       "[array([[False, False,  True, False, False],\n",
       "        [False, False, False, False, False],\n",
       "        [False, False,  True, False,  True]])]"
      ]
     },
     "execution_count": 22,
     "metadata": {},
     "output_type": "execute_result"
    }
   ],
   "source": [
    "[a % 4 == 0]"
   ]
  },
  {
   "cell_type": "code",
   "execution_count": 23,
   "id": "c38609c8",
   "metadata": {},
   "outputs": [
    {
     "data": {
      "text/plain": [
       "array([12, 56, 60])"
      ]
     },
     "execution_count": 23,
     "metadata": {},
     "output_type": "execute_result"
    }
   ],
   "source": [
    "a[a % 4 == 0]"
   ]
  },
  {
   "cell_type": "code",
   "execution_count": 24,
   "id": "5cfba084",
   "metadata": {},
   "outputs": [
    {
     "data": {
      "text/plain": [
       "128"
      ]
     },
     "execution_count": 24,
     "metadata": {},
     "output_type": "execute_result"
    }
   ],
   "source": [
    "a[a % 4 == 0].sum()"
   ]
  },
  {
   "cell_type": "code",
   "execution_count": null,
   "id": "5e3c4d0b",
   "metadata": {},
   "outputs": [],
   "source": []
  },
  {
   "cell_type": "markdown",
   "id": "14515f70",
   "metadata": {},
   "source": [
    "## 3. Axis-Wise Operations"
   ]
  },
  {
   "cell_type": "code",
   "execution_count": 25,
   "id": "7e4dbeb8",
   "metadata": {},
   "outputs": [
    {
     "data": {
      "text/plain": [
       "array([[38, 14, 12, 43, 42],\n",
       "       [37, 25, 85, 87, 49],\n",
       "       [47, 22, 56, 11, 60]])"
      ]
     },
     "execution_count": 25,
     "metadata": {},
     "output_type": "execute_result"
    }
   ],
   "source": [
    "a"
   ]
  },
  {
   "cell_type": "code",
   "execution_count": 26,
   "id": "e5e30493",
   "metadata": {},
   "outputs": [
    {
     "data": {
      "text/plain": [
       "array([122,  61, 153, 141, 151])"
      ]
     },
     "execution_count": 26,
     "metadata": {},
     "output_type": "execute_result"
    }
   ],
   "source": [
    "# I want column wise sum\n",
    "\n",
    "a.sum(axis = 0)         # 0--> columns & 1 --> Rows"
   ]
  },
  {
   "cell_type": "code",
   "execution_count": 27,
   "id": "523d06c1",
   "metadata": {},
   "outputs": [
    {
     "data": {
      "text/plain": [
       "array([149, 283, 196])"
      ]
     },
     "execution_count": 27,
     "metadata": {},
     "output_type": "execute_result"
    }
   ],
   "source": [
    "# I want row wise sum\n",
    "\n",
    "a.sum(axis = 1)"
   ]
  },
  {
   "cell_type": "code",
   "execution_count": 28,
   "id": "8fe7ae90",
   "metadata": {},
   "outputs": [
    {
     "data": {
      "text/plain": [
       "array([12, 25, 11])"
      ]
     },
     "execution_count": 28,
     "metadata": {},
     "output_type": "execute_result"
    }
   ],
   "source": [
    "a.min(axis=1)"
   ]
  },
  {
   "cell_type": "code",
   "execution_count": 29,
   "id": "c0648cf1",
   "metadata": {},
   "outputs": [
    {
     "data": {
      "text/plain": [
       "array([40.66666667, 20.33333333, 51.        , 47.        , 50.33333333])"
      ]
     },
     "execution_count": 29,
     "metadata": {},
     "output_type": "execute_result"
    }
   ],
   "source": [
    "a.mean(axis=0)"
   ]
  },
  {
   "cell_type": "code",
   "execution_count": 31,
   "id": "105b0e77",
   "metadata": {},
   "outputs": [
    {
     "data": {
      "text/plain": [
       "array([40.67, 20.33, 51.  , 47.  , 50.33])"
      ]
     },
     "execution_count": 31,
     "metadata": {},
     "output_type": "execute_result"
    }
   ],
   "source": [
    "# now I want only 2 digit decimal for above mean\n",
    "\n",
    "np.around(a.mean(axis=0),2)"
   ]
  },
  {
   "cell_type": "code",
   "execution_count": null,
   "id": "e0b485d9",
   "metadata": {},
   "outputs": [],
   "source": []
  },
  {
   "cell_type": "markdown",
   "id": "05e3c2d5",
   "metadata": {},
   "source": [
    "## 4. Concatenation, Stack & Split\n"
   ]
  },
  {
   "cell_type": "code",
   "execution_count": null,
   "id": "253ac8af",
   "metadata": {},
   "outputs": [],
   "source": []
  },
  {
   "cell_type": "markdown",
   "id": "81d633fb",
   "metadata": {},
   "source": [
    "### Concatenation"
   ]
  },
  {
   "cell_type": "code",
   "execution_count": 33,
   "id": "4de80f80",
   "metadata": {},
   "outputs": [
    {
     "data": {
      "text/plain": [
       "array([[1, 2],\n",
       "       [3, 4]])"
      ]
     },
     "execution_count": 33,
     "metadata": {},
     "output_type": "execute_result"
    }
   ],
   "source": [
    "b = np.array([[1,2],[3,4]])\n",
    "b"
   ]
  },
  {
   "cell_type": "code",
   "execution_count": 42,
   "id": "704a9453",
   "metadata": {},
   "outputs": [
    {
     "data": {
      "text/plain": [
       "array([[5, 6]])"
      ]
     },
     "execution_count": 42,
     "metadata": {},
     "output_type": "execute_result"
    }
   ],
   "source": [
    "c = np.array([[5,6]])\n",
    "c"
   ]
  },
  {
   "cell_type": "code",
   "execution_count": 35,
   "id": "5f5cc25c",
   "metadata": {},
   "outputs": [
    {
     "data": {
      "text/plain": [
       "array([[ 6,  8],\n",
       "       [ 8, 10]])"
      ]
     },
     "execution_count": 35,
     "metadata": {},
     "output_type": "execute_result"
    }
   ],
   "source": [
    "# I want to add c to array b\n",
    "\n",
    "b+c"
   ]
  },
  {
   "cell_type": "code",
   "execution_count": null,
   "id": "7731cfd3",
   "metadata": {},
   "outputs": [],
   "source": []
  },
  {
   "cell_type": "code",
   "execution_count": 43,
   "id": "57cbd137",
   "metadata": {},
   "outputs": [
    {
     "data": {
      "text/plain": [
       "(2, 2)"
      ]
     },
     "execution_count": 43,
     "metadata": {},
     "output_type": "execute_result"
    }
   ],
   "source": [
    "b.shape"
   ]
  },
  {
   "cell_type": "code",
   "execution_count": 44,
   "id": "7582974c",
   "metadata": {},
   "outputs": [
    {
     "data": {
      "text/plain": [
       "(1, 2)"
      ]
     },
     "execution_count": 44,
     "metadata": {},
     "output_type": "execute_result"
    }
   ],
   "source": [
    "c.shape"
   ]
  },
  {
   "cell_type": "code",
   "execution_count": null,
   "id": "af1e7909",
   "metadata": {},
   "outputs": [],
   "source": []
  },
  {
   "cell_type": "code",
   "execution_count": 45,
   "id": "7c1432e7",
   "metadata": {},
   "outputs": [
    {
     "data": {
      "text/plain": [
       "array([[1, 2],\n",
       "       [3, 4],\n",
       "       [5, 6]])"
      ]
     },
     "execution_count": 45,
     "metadata": {},
     "output_type": "execute_result"
    }
   ],
   "source": [
    "# I want add c as a new row to the array b\n",
    "\n",
    "np.concatenate([b,c])"
   ]
  },
  {
   "cell_type": "code",
   "execution_count": 46,
   "id": "a49fcb5d",
   "metadata": {},
   "outputs": [],
   "source": [
    "# so, be default it takes axis=0, means added the c as a new row\n"
   ]
  },
  {
   "cell_type": "code",
   "execution_count": null,
   "id": "6f48d281",
   "metadata": {},
   "outputs": [],
   "source": []
  },
  {
   "cell_type": "code",
   "execution_count": 48,
   "id": "fb836395",
   "metadata": {},
   "outputs": [
    {
     "ename": "ValueError",
     "evalue": "all the input array dimensions for the concatenation axis must match exactly, but along dimension 0, the array at index 0 has size 2 and the array at index 1 has size 1",
     "output_type": "error",
     "traceback": [
      "\u001b[1;31m---------------------------------------------------------------------------\u001b[0m",
      "\u001b[1;31mValueError\u001b[0m                                Traceback (most recent call last)",
      "\u001b[1;32m~\\AppData\\Local\\Temp/ipykernel_12088/2006907446.py\u001b[0m in \u001b[0;36m<module>\u001b[1;34m\u001b[0m\n\u001b[0;32m      1\u001b[0m \u001b[1;31m# I want to add c as a new column to the array b\u001b[0m\u001b[1;33m\u001b[0m\u001b[1;33m\u001b[0m\u001b[0m\n\u001b[0;32m      2\u001b[0m \u001b[1;33m\u001b[0m\u001b[0m\n\u001b[1;32m----> 3\u001b[1;33m \u001b[0mnp\u001b[0m\u001b[1;33m.\u001b[0m\u001b[0mconcatenate\u001b[0m\u001b[1;33m(\u001b[0m\u001b[1;33m[\u001b[0m\u001b[0mb\u001b[0m\u001b[1;33m,\u001b[0m\u001b[0mc\u001b[0m\u001b[1;33m]\u001b[0m\u001b[1;33m,\u001b[0m \u001b[0maxis\u001b[0m\u001b[1;33m=\u001b[0m\u001b[1;36m1\u001b[0m\u001b[1;33m)\u001b[0m\u001b[1;33m\u001b[0m\u001b[1;33m\u001b[0m\u001b[0m\n\u001b[0m",
      "\u001b[1;32m<__array_function__ internals>\u001b[0m in \u001b[0;36mconcatenate\u001b[1;34m(*args, **kwargs)\u001b[0m\n",
      "\u001b[1;31mValueError\u001b[0m: all the input array dimensions for the concatenation axis must match exactly, but along dimension 0, the array at index 0 has size 2 and the array at index 1 has size 1"
     ]
    }
   ],
   "source": [
    "# I want to add c as a new column to the array b\n",
    "\n",
    "np.concatenate([b,c], axis=1)"
   ]
  },
  {
   "cell_type": "code",
   "execution_count": 49,
   "id": "bd74dde3",
   "metadata": {},
   "outputs": [],
   "source": [
    "# It shows error bcz, shape(dimension) of both array is not same\n",
    "\n",
    "# as c has 1 row & 2 columns, b has 2rows and 2columns. To add c we need 2 rows(use transpose to make it into 2rows)"
   ]
  },
  {
   "cell_type": "code",
   "execution_count": 53,
   "id": "60290aec",
   "metadata": {},
   "outputs": [
    {
     "data": {
      "text/plain": [
       "array([[5],\n",
       "       [6]])"
      ]
     },
     "execution_count": 53,
     "metadata": {},
     "output_type": "execute_result"
    }
   ],
   "source": [
    "c.T"
   ]
  },
  {
   "cell_type": "code",
   "execution_count": 55,
   "id": "1ce070b5",
   "metadata": {},
   "outputs": [
    {
     "data": {
      "text/plain": [
       "(2, 1)"
      ]
     },
     "execution_count": 55,
     "metadata": {},
     "output_type": "execute_result"
    }
   ],
   "source": [
    "c.T.shape"
   ]
  },
  {
   "cell_type": "code",
   "execution_count": 57,
   "id": "4dd278fc",
   "metadata": {},
   "outputs": [
    {
     "data": {
      "text/plain": [
       "array([[1, 2, 5],\n",
       "       [3, 4, 6]])"
      ]
     },
     "execution_count": 57,
     "metadata": {},
     "output_type": "execute_result"
    }
   ],
   "source": [
    "np.concatenate([b,c.T],axis=1)"
   ]
  },
  {
   "cell_type": "code",
   "execution_count": 58,
   "id": "df3801f7",
   "metadata": {},
   "outputs": [],
   "source": [
    "# NOTE: When we need add/merge array as row ---> columns of both array must be same\n",
    "#       When we need add/merge array as column ---> rows of both array must be same"
   ]
  },
  {
   "cell_type": "code",
   "execution_count": null,
   "id": "be24a808",
   "metadata": {},
   "outputs": [],
   "source": []
  },
  {
   "cell_type": "markdown",
   "id": "c8a27b69",
   "metadata": {},
   "source": [
    "### Stack\n",
    "\n",
    "* Same as concatenate"
   ]
  },
  {
   "cell_type": "code",
   "execution_count": 59,
   "id": "7683035f",
   "metadata": {},
   "outputs": [
    {
     "data": {
      "text/plain": [
       "array([[1, 2],\n",
       "       [3, 4]])"
      ]
     },
     "execution_count": 59,
     "metadata": {},
     "output_type": "execute_result"
    }
   ],
   "source": [
    "b"
   ]
  },
  {
   "cell_type": "code",
   "execution_count": 60,
   "id": "aec0fd1c",
   "metadata": {},
   "outputs": [
    {
     "data": {
      "text/plain": [
       "array([[5, 6]])"
      ]
     },
     "execution_count": 60,
     "metadata": {},
     "output_type": "execute_result"
    }
   ],
   "source": [
    "c"
   ]
  },
  {
   "cell_type": "code",
   "execution_count": 62,
   "id": "e8193819",
   "metadata": {},
   "outputs": [
    {
     "data": {
      "text/plain": [
       "array([[1, 2],\n",
       "       [3, 4],\n",
       "       [5, 6]])"
      ]
     },
     "execution_count": 62,
     "metadata": {},
     "output_type": "execute_result"
    }
   ],
   "source": [
    "# Used to add as a row\n",
    "\n",
    "np.vstack([b,c])      # vstack --> Vertical Stack"
   ]
  },
  {
   "cell_type": "code",
   "execution_count": 64,
   "id": "1bec3b9e",
   "metadata": {},
   "outputs": [
    {
     "data": {
      "text/plain": [
       "array([[1, 2, 5],\n",
       "       [3, 4, 6]])"
      ]
     },
     "execution_count": 64,
     "metadata": {},
     "output_type": "execute_result"
    }
   ],
   "source": [
    "# Used to add as a column\n",
    "\n",
    "np.hstack([b,c.T])  # hstack --> Horizonal Stack"
   ]
  },
  {
   "cell_type": "code",
   "execution_count": null,
   "id": "f3aab036",
   "metadata": {},
   "outputs": [],
   "source": []
  },
  {
   "cell_type": "markdown",
   "id": "7cd2b20a",
   "metadata": {},
   "source": [
    "### Split"
   ]
  },
  {
   "cell_type": "code",
   "execution_count": 65,
   "id": "3e58efc1",
   "metadata": {},
   "outputs": [
    {
     "data": {
      "text/plain": [
       "array([[38, 14, 12, 43, 42],\n",
       "       [37, 25, 85, 87, 49],\n",
       "       [47, 22, 56, 11, 60]])"
      ]
     },
     "execution_count": 65,
     "metadata": {},
     "output_type": "execute_result"
    }
   ],
   "source": [
    "a"
   ]
  },
  {
   "cell_type": "code",
   "execution_count": 73,
   "id": "e7a13446",
   "metadata": {},
   "outputs": [],
   "source": [
    "# hspilt --> spilt the existing array into equal no. of columns in new arrays"
   ]
  },
  {
   "cell_type": "code",
   "execution_count": 74,
   "id": "e95d7891",
   "metadata": {},
   "outputs": [
    {
     "data": {
      "text/plain": [
       "[array([[38],\n",
       "        [37],\n",
       "        [47]]),\n",
       " array([[14],\n",
       "        [25],\n",
       "        [22]]),\n",
       " array([[12],\n",
       "        [85],\n",
       "        [56]]),\n",
       " array([[43],\n",
       "        [87],\n",
       "        [11]]),\n",
       " array([[42],\n",
       "        [49],\n",
       "        [60]])]"
      ]
     },
     "execution_count": 74,
     "metadata": {},
     "output_type": "execute_result"
    }
   ],
   "source": [
    "np.hsplit(a,5)"
   ]
  },
  {
   "cell_type": "code",
   "execution_count": null,
   "id": "73c2f3b3",
   "metadata": {},
   "outputs": [],
   "source": []
  },
  {
   "cell_type": "code",
   "execution_count": 75,
   "id": "6ccd985b",
   "metadata": {},
   "outputs": [],
   "source": [
    "# vsplit --> spilt the existing array into equal no. of rows in new arrays"
   ]
  },
  {
   "cell_type": "code",
   "execution_count": 76,
   "id": "4a14e662",
   "metadata": {},
   "outputs": [
    {
     "data": {
      "text/plain": [
       "[array([[38, 14, 12, 43, 42]]),\n",
       " array([[37, 25, 85, 87, 49]]),\n",
       " array([[47, 22, 56, 11, 60]])]"
      ]
     },
     "execution_count": 76,
     "metadata": {},
     "output_type": "execute_result"
    }
   ],
   "source": [
    "np.vsplit(a,3)"
   ]
  },
  {
   "cell_type": "code",
   "execution_count": 77,
   "id": "862b4a32",
   "metadata": {},
   "outputs": [],
   "source": [
    "# If I want to access new arrays sperately and assign some variable to each \n",
    "\n",
    "\n",
    "first_row = np.vsplit(a,3)[0]\n",
    "\n",
    "second_row = np.vsplit(a,3)[1]\n",
    "\n",
    "third_row = np.vsplit(a,3)[2]"
   ]
  },
  {
   "cell_type": "code",
   "execution_count": 79,
   "id": "a2678108",
   "metadata": {},
   "outputs": [
    {
     "data": {
      "text/plain": [
       "array([[38, 14, 12, 43, 42]])"
      ]
     },
     "execution_count": 79,
     "metadata": {},
     "output_type": "execute_result"
    }
   ],
   "source": [
    "first_row "
   ]
  },
  {
   "cell_type": "code",
   "execution_count": 80,
   "id": "ab6cbe8f",
   "metadata": {},
   "outputs": [
    {
     "data": {
      "text/plain": [
       "array([[37, 25, 85, 87, 49]])"
      ]
     },
     "execution_count": 80,
     "metadata": {},
     "output_type": "execute_result"
    }
   ],
   "source": [
    "second_row"
   ]
  },
  {
   "cell_type": "code",
   "execution_count": 81,
   "id": "89a2e3ce",
   "metadata": {},
   "outputs": [
    {
     "data": {
      "text/plain": [
       "array([[47, 22, 56, 11, 60]])"
      ]
     },
     "execution_count": 81,
     "metadata": {},
     "output_type": "execute_result"
    }
   ],
   "source": [
    "third_row"
   ]
  },
  {
   "cell_type": "code",
   "execution_count": null,
   "id": "ba53fe98",
   "metadata": {},
   "outputs": [],
   "source": []
  }
 ],
 "metadata": {
  "kernelspec": {
   "display_name": "Python 3 (ipykernel)",
   "language": "python",
   "name": "python3"
  },
  "language_info": {
   "codemirror_mode": {
    "name": "ipython",
    "version": 3
   },
   "file_extension": ".py",
   "mimetype": "text/x-python",
   "name": "python",
   "nbconvert_exporter": "python",
   "pygments_lexer": "ipython3",
   "version": "3.9.7"
  }
 },
 "nbformat": 4,
 "nbformat_minor": 5
}
