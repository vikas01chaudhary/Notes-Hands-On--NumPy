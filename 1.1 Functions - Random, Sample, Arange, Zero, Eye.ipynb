{
 "cells": [
  {
   "cell_type": "markdown",
   "id": "052e05c3",
   "metadata": {},
   "source": [
    "# Random"
   ]
  },
  {
   "cell_type": "markdown",
   "id": "c3211ead",
   "metadata": {},
   "source": [
    "### --> 1. Sample\n",
    "\n",
    "* It gives random values b/w 0 to 1\n",
    "* These values changes at every excution\n",
    "* It requires extra one perenthesis, i.e () --> (())"
   ]
  },
  {
   "cell_type": "code",
   "execution_count": 2,
   "id": "4a255354",
   "metadata": {},
   "outputs": [],
   "source": [
    "import numpy as np"
   ]
  },
  {
   "cell_type": "code",
   "execution_count": 6,
   "id": "c3945a40",
   "metadata": {},
   "outputs": [
    {
     "data": {
      "text/plain": [
       "array([[0.36695785, 0.98285236, 0.72949376],\n",
       "       [0.33636966, 0.01575862, 0.05817561],\n",
       "       [0.5930835 , 0.00459059, 0.06445593]])"
      ]
     },
     "execution_count": 6,
     "metadata": {},
     "output_type": "execute_result"
    }
   ],
   "source": [
    "np.random.sample((3,3))        # ((no. of rows, no. of columns))"
   ]
  },
  {
   "cell_type": "code",
   "execution_count": 8,
   "id": "b5b56d70",
   "metadata": {},
   "outputs": [
    {
     "data": {
      "text/plain": [
       "array([[0.57592256, 0.78611239, 0.9363667 , 0.34973079, 0.06741574],\n",
       "       [0.03835636, 0.16199726, 0.22317782, 0.00380333, 0.78862477],\n",
       "       [0.96074525, 0.09795427, 0.40685531, 0.21281105, 0.27185792]])"
      ]
     },
     "execution_count": 8,
     "metadata": {},
     "output_type": "execute_result"
    }
   ],
   "source": [
    "np.random.sample((3,5))        # ((no. of rows, no. of columns))"
   ]
  },
  {
   "cell_type": "code",
   "execution_count": null,
   "id": "fca5ef82",
   "metadata": {},
   "outputs": [],
   "source": []
  },
  {
   "cell_type": "markdown",
   "id": "5cf95c5f",
   "metadata": {},
   "source": [
    "### --> 2. Seed\n",
    "\n",
    "* It is used to freeze the randomness of sample\n",
    "* Just fix/lock the random values\n"
   ]
  },
  {
   "cell_type": "code",
   "execution_count": 12,
   "id": "3dc4de7f",
   "metadata": {},
   "outputs": [
    {
     "data": {
      "text/plain": [
       "array([[0.51639863, 0.57066759, 0.02847423],\n",
       "       [0.17152166, 0.68527698, 0.83389686],\n",
       "       [0.30696622, 0.89361308, 0.72154386]])"
      ]
     },
     "execution_count": 12,
     "metadata": {},
     "output_type": "execute_result"
    }
   ],
   "source": [
    "np.random.seed(101)    #(just provide any no., it has no significance on the output)\n",
    "\n",
    "np.random.sample((3,3))        "
   ]
  },
  {
   "cell_type": "code",
   "execution_count": null,
   "id": "943cbcd5",
   "metadata": {},
   "outputs": [],
   "source": []
  },
  {
   "cell_type": "markdown",
   "id": "5e0f8a85",
   "metadata": {},
   "source": [
    "### --> 3. Randn\n",
    "\n",
    "* It gives values in Normal Distribution\n",
    "* Don't need extra perenthesis\n",
    "* These values changes at every excution, Use SEED to lock the values"
   ]
  },
  {
   "cell_type": "code",
   "execution_count": 20,
   "id": "13eb5bac",
   "metadata": {},
   "outputs": [
    {
     "data": {
      "text/plain": [
       "array([[-0.3464185 ,  0.14702677, -0.47944804],\n",
       "       [ 0.55876941,  1.02481028, -0.92587426],\n",
       "       [ 1.86286414, -1.13381716,  0.61047791]])"
      ]
     },
     "execution_count": 20,
     "metadata": {},
     "output_type": "execute_result"
    }
   ],
   "source": [
    "a = np.random.randn(3,3)\n",
    "a"
   ]
  },
  {
   "cell_type": "code",
   "execution_count": null,
   "id": "bd36c9de",
   "metadata": {},
   "outputs": [],
   "source": []
  },
  {
   "cell_type": "markdown",
   "id": "07257906",
   "metadata": {},
   "source": [
    "### --> 4. Randint\n",
    "\n",
    "* It gives values in the speficied range\n",
    "* random.randint(strt point, end point, (D of array))\n",
    "* These values changes at every excution, Use SEED to lock the values"
   ]
  },
  {
   "cell_type": "code",
   "execution_count": 21,
   "id": "b427d53d",
   "metadata": {},
   "outputs": [
    {
     "data": {
      "text/plain": [
       "array([[56, 13, 56],\n",
       "       [39, 96, 31],\n",
       "       [31, 91, 33]])"
      ]
     },
     "execution_count": 21,
     "metadata": {},
     "output_type": "execute_result"
    }
   ],
   "source": [
    "b = np.random.randint(10,100,(3,3))\n",
    "b"
   ]
  },
  {
   "cell_type": "code",
   "execution_count": null,
   "id": "4a04054d",
   "metadata": {},
   "outputs": [],
   "source": []
  },
  {
   "cell_type": "markdown",
   "id": "d2aece50",
   "metadata": {},
   "source": [
    "# Zeros\n",
    "\n",
    "* Fills the array with 0\n",
    "* It requires extra one perenthesis, i.e () --> (())"
   ]
  },
  {
   "cell_type": "code",
   "execution_count": 23,
   "id": "34ad8967",
   "metadata": {},
   "outputs": [
    {
     "data": {
      "text/plain": [
       "array([[0., 0., 0.],\n",
       "       [0., 0., 0.],\n",
       "       [0., 0., 0.]])"
      ]
     },
     "execution_count": 23,
     "metadata": {},
     "output_type": "execute_result"
    }
   ],
   "source": [
    "np.zeros((3,3))    # by default it gives float values"
   ]
  },
  {
   "cell_type": "code",
   "execution_count": 24,
   "id": "7e9d32d0",
   "metadata": {},
   "outputs": [
    {
     "data": {
      "text/plain": [
       "array([[0, 0, 0],\n",
       "       [0, 0, 0],\n",
       "       [0, 0, 0]])"
      ]
     },
     "execution_count": 24,
     "metadata": {},
     "output_type": "execute_result"
    }
   ],
   "source": [
    "# If I want to change the datatype:\n",
    "\n",
    "np.zeros((3,3),dtype=int) "
   ]
  },
  {
   "cell_type": "code",
   "execution_count": null,
   "id": "93842b02",
   "metadata": {},
   "outputs": [],
   "source": []
  },
  {
   "cell_type": "markdown",
   "id": "41427500",
   "metadata": {},
   "source": [
    "# Ones\n",
    "\n",
    "\n",
    "* Fills the array with the 1\n",
    "* It requires extra one perenthesis, i.e () --> (())"
   ]
  },
  {
   "cell_type": "code",
   "execution_count": 25,
   "id": "58828e04",
   "metadata": {},
   "outputs": [
    {
     "data": {
      "text/plain": [
       "array([[1., 1., 1., 1.],\n",
       "       [1., 1., 1., 1.],\n",
       "       [1., 1., 1., 1.],\n",
       "       [1., 1., 1., 1.]])"
      ]
     },
     "execution_count": 25,
     "metadata": {},
     "output_type": "execute_result"
    }
   ],
   "source": [
    "np.ones((4,4))"
   ]
  },
  {
   "cell_type": "code",
   "execution_count": null,
   "id": "31e57753",
   "metadata": {},
   "outputs": [],
   "source": []
  },
  {
   "cell_type": "markdown",
   "id": "3b9e1777",
   "metadata": {},
   "source": [
    "# Full\n",
    "\n",
    "* Fills the array with the specified/particular constant\n",
    "* It requires extra one perenthesis, i.e () --> (())\n",
    "* np.full((Shape), specified no.)"
   ]
  },
  {
   "cell_type": "code",
   "execution_count": 29,
   "id": "e4746cc8",
   "metadata": {},
   "outputs": [
    {
     "data": {
      "text/plain": [
       "array([[99, 99, 99],\n",
       "       [99, 99, 99],\n",
       "       [99, 99, 99]])"
      ]
     },
     "execution_count": 29,
     "metadata": {},
     "output_type": "execute_result"
    }
   ],
   "source": [
    "np.full((3,3), 99)"
   ]
  },
  {
   "cell_type": "code",
   "execution_count": null,
   "id": "d4070496",
   "metadata": {},
   "outputs": [],
   "source": []
  },
  {
   "cell_type": "markdown",
   "id": "e46e5e15",
   "metadata": {},
   "source": [
    "# Eye\n",
    "\n",
    "* It gives no. 1 Diagonally & fill rest positions with 0\n"
   ]
  },
  {
   "cell_type": "code",
   "execution_count": 31,
   "id": "a76c2e62",
   "metadata": {},
   "outputs": [
    {
     "data": {
      "text/plain": [
       "array([[1., 0., 0.],\n",
       "       [0., 1., 0.],\n",
       "       [0., 0., 1.]])"
      ]
     },
     "execution_count": 31,
     "metadata": {},
     "output_type": "execute_result"
    }
   ],
   "source": [
    "np.eye(3,3)"
   ]
  },
  {
   "cell_type": "code",
   "execution_count": 32,
   "id": "8e7a4560",
   "metadata": {},
   "outputs": [
    {
     "data": {
      "text/plain": [
       "array([[1., 0., 0., 0., 0.],\n",
       "       [0., 1., 0., 0., 0.],\n",
       "       [0., 0., 1., 0., 0.]])"
      ]
     },
     "execution_count": 32,
     "metadata": {},
     "output_type": "execute_result"
    }
   ],
   "source": [
    "np.eye(3,5)"
   ]
  },
  {
   "cell_type": "code",
   "execution_count": 33,
   "id": "c63240dd",
   "metadata": {},
   "outputs": [
    {
     "data": {
      "text/plain": [
       "array([[1., 0., 0., 0.],\n",
       "       [0., 1., 0., 0.],\n",
       "       [0., 0., 1., 0.],\n",
       "       [0., 0., 0., 1.]])"
      ]
     },
     "execution_count": 33,
     "metadata": {},
     "output_type": "execute_result"
    }
   ],
   "source": [
    "np.eye(4,4)"
   ]
  },
  {
   "cell_type": "code",
   "execution_count": null,
   "id": "cadc5fe7",
   "metadata": {},
   "outputs": [],
   "source": []
  },
  {
   "cell_type": "markdown",
   "id": "3c4e2c44",
   "metadata": {},
   "source": [
    "# Arange\n",
    "\n",
    "* Same as range function\n"
   ]
  },
  {
   "cell_type": "code",
   "execution_count": 35,
   "id": "ff236c33",
   "metadata": {},
   "outputs": [
    {
     "data": {
      "text/plain": [
       "array([0, 1, 2, 3, 4, 5, 6, 7, 8, 9])"
      ]
     },
     "execution_count": 35,
     "metadata": {},
     "output_type": "execute_result"
    }
   ],
   "source": [
    "np.arange(10)       # End Position"
   ]
  },
  {
   "cell_type": "code",
   "execution_count": 36,
   "id": "3af17c31",
   "metadata": {},
   "outputs": [
    {
     "data": {
      "text/plain": [
       "array([10, 11, 12, 13, 14, 15, 16, 17, 18, 19])"
      ]
     },
     "execution_count": 36,
     "metadata": {},
     "output_type": "execute_result"
    }
   ],
   "source": [
    "np.arange(10,20)       # Start Position, End Position"
   ]
  },
  {
   "cell_type": "code",
   "execution_count": 37,
   "id": "a68c1807",
   "metadata": {},
   "outputs": [
    {
     "data": {
      "text/plain": [
       "array([10, 12, 14, 16, 18])"
      ]
     },
     "execution_count": 37,
     "metadata": {},
     "output_type": "execute_result"
    }
   ],
   "source": [
    "np.arange(10,20,2)       # Start Position, End Position, Interval"
   ]
  },
  {
   "cell_type": "code",
   "execution_count": null,
   "id": "ac21b744",
   "metadata": {},
   "outputs": [],
   "source": []
  },
  {
   "cell_type": "markdown",
   "id": "a6916c10",
   "metadata": {},
   "source": [
    "# Linspace\n",
    "\n",
    "* It equally seprates the values from start position & end position \n",
    "* It always includes start position & end position in output"
   ]
  },
  {
   "cell_type": "code",
   "execution_count": 42,
   "id": "f38d85de",
   "metadata": {},
   "outputs": [
    {
     "data": {
      "text/plain": [
       "array([1., 5., 9.])"
      ]
     },
     "execution_count": 42,
     "metadata": {},
     "output_type": "execute_result"
    }
   ],
   "source": [
    "np.linspace(1,9,3)   # Start Position, End Position, No. of values to be print"
   ]
  },
  {
   "cell_type": "code",
   "execution_count": 43,
   "id": "e2e94782",
   "metadata": {},
   "outputs": [
    {
     "data": {
      "text/plain": [
       "array([ 10.,  20.,  30.,  40.,  50.,  60.,  70.,  80.,  90., 100.])"
      ]
     },
     "execution_count": 43,
     "metadata": {},
     "output_type": "execute_result"
    }
   ],
   "source": [
    "np.linspace(10,100,10)"
   ]
  },
  {
   "cell_type": "code",
   "execution_count": null,
   "id": "d1f9fd36",
   "metadata": {},
   "outputs": [],
   "source": []
  }
 ],
 "metadata": {
  "kernelspec": {
   "display_name": "Python 3 (ipykernel)",
   "language": "python",
   "name": "python3"
  },
  "language_info": {
   "codemirror_mode": {
    "name": "ipython",
    "version": 3
   },
   "file_extension": ".py",
   "mimetype": "text/x-python",
   "name": "python",
   "nbconvert_exporter": "python",
   "pygments_lexer": "ipython3",
   "version": "3.9.7"
  }
 },
 "nbformat": 4,
 "nbformat_minor": 5
}
